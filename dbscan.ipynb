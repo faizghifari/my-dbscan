{
 "cells": [
  {
   "cell_type": "markdown",
   "metadata": {},
   "source": [
    "# Tubes ML - DBSCAN"
   ]
  },
  {
   "cell_type": "code",
   "execution_count": 8,
   "metadata": {
    "collapsed": true
   },
   "outputs": [],
   "source": [
    "import numpy as np\n",
    "import matplotlib.pyplot as plt\n",
    "\n",
    "from sklearn import datasets\n",
    "from sklearn.base import BaseEstimator, ClusterMixin\n",
    "from sklearn.metrics import classification_report, accuracy_score"
   ]
  },
  {
   "cell_type": "code",
   "execution_count": 9,
   "metadata": {
    "collapsed": true
   },
   "outputs": [],
   "source": [
    "iris = datasets.load_iris()\n",
    "data = iris.data\n",
    "target = iris.target"
   ]
  },
  {
   "cell_type": "code",
   "execution_count": 10,
   "metadata": {
    "collapsed": true
   },
   "outputs": [],
   "source": [
    "def evaluate(labels):\n",
    "    print(classification_report(target, labels))\n",
    "    print('accuracy = ', accuracy_score(target, labels, normalize=True))"
   ]
  },
  {
   "cell_type": "markdown",
   "metadata": {},
   "source": [
    "### Konsep DBSCAN\n",
    "\n",
    "Density-based Spatial Clustering of Applications with Noise (DBSCAN) secara sederhana merupakan algoritma clustering yang menggunakan konsep density reachability. DBSCAN sedikit mirip dengan K-Means dan K-Medoids karena menggunakan atribut posisi setiap data kemudian menghitung jarak antar data sebagai acuan untuk melakukan clustering.\n",
    "\n",
    "Konsep density reachability menggunakan 2 parameter yaitu epsilon dan min_pts, dengan penjelasan pada poin-point berikut:\n",
    "\n",
    "1. Suatu point `p` dinyatakan sebagai core point jika terdapat sejumlah `n` point dimana `n` >= min_pts dan jarak antara `p` dengan poin tersebut kurang dari epsilon (directly-density reachable)\n",
    "2. Suatu point `q` dinyatakan directly-density reachable dari point `p` jika jarak diantara keduanya kurang dari epsilon dan `p` adalah core point\n",
    "3. Suatu point `q` dinyatakan reachable dari point `p` jika terdapat path p1, p2, ..., pN dimana `p1 = p` dan `pN = q`, dimana pI+1 directly-density reachable dari pI dan semua point dalam path merupakan core point\n",
    "4. Seluruh point yang tidak reachable dari point lainnya dinyatakan sebagai outliers\n",
    "\n",
    "Pseudocode dari implementasi DBSCAN dapat dilihat sebagai berikut:\n",
    "\n",
    "```sh\n",
    "    DBSCAN(eps, minPts, D) {\n",
    "        C = 0\n",
    "        for each point P in D {\n",
    "            if label(P) ≠ undefined then\n",
    "                continue\n",
    "            Neighbour NP = getNeighbours(D, P, eps)\n",
    "            if |NP| < minPts then\n",
    "                label(P) = noise\n",
    "            else {\n",
    "                C = C + 1\n",
    "                label(P) = C\n",
    "                set S = NP / {P}\n",
    "                for each point Q in S {\n",
    "                    if label(Q) = noise then\n",
    "                        label(Q) = C\n",
    "                    if label(Q) ≠ undefined then\n",
    "                        continue\n",
    "                    label(Q) = C\n",
    "\n",
    "                    Neighbour NQ = getNeighbours(D, Q, eps)\n",
    "                    if |NQ| >= minPts then\n",
    "                    S = S U NQ\n",
    "                }\n",
    "            }\n",
    "        }\n",
    "    }\n",
    "```\n",
    "\n",
    "Berikut merupakan pseudocode dari implementasi fungsi getNeighbours:\n",
    "\n",
    "```sh\n",
    "    getNeighbours(D, P, eps)\n",
    "       neighbours = empty list\n",
    "        \n",
    "       for each point Q in D {\n",
    "           if distance(P,Q) <= eps then {\n",
    "               neighbours = neighbours U {Q}\n",
    "           }\n",
    "       }\n",
    "        return neighbours\n",
    "```"
   ]
  },
  {
   "cell_type": "code",
   "execution_count": 22,
   "metadata": {},
   "outputs": [],
   "source": [
    "class MyDBSCAN(BaseEstimator, ClusterMixin):\n",
    "    \n",
    "    def __init__(self, min_pts=4, eps=0.25):\n",
    "        self.min_pts = min_pts\n",
    "        self.eps = eps\n",
    "    \n",
    "    def __get_neighbours(self, D, P): # fungsi untuk mendapatkan seluruh point yang density-reachable (konsep 1 & 2)\n",
    "        neighbours = []\n",
    "        \n",
    "        for Pt in range(0, len(D)):\n",
    "            if np.linalg.norm(D[P] - D[Pt]) < self.eps:\n",
    "                neighbours.append(Pt)\n",
    "        \n",
    "        return neighbours \n",
    "    \n",
    "    def __expand_clusters(self, D, P, N, C, labels): # fungsi untuk mendapatkan seluruh point yang reachable (konsep 3)\n",
    "        i = 0\n",
    "        \n",
    "        while i < len(N):\n",
    "            Pn = N[i]\n",
    "            \n",
    "            if labels[Pn] == -1:\n",
    "                labels[Pn] = C\n",
    "            elif labels[Pn] == 0:\n",
    "                labels[Pn] = C\n",
    "                \n",
    "                pn_neighbours_pts = self.__get_neighbours(D, Pn)\n",
    "                if len(pn_neighbours_pts) >= self.min_pts:\n",
    "                    N = N + pn_neighbours_pts\n",
    "            \n",
    "            i += 1\n",
    "        \n",
    "    def fit_predict(self, D, y=None):\n",
    "        cluster_labels = np.zeros(len(D))\n",
    "        current_cluster = 0\n",
    "        \n",
    "        for P in range(0, len(D)):\n",
    "            if cluster_labels[P] != 0:\n",
    "                continue\n",
    "            \n",
    "            neighbours_pts = self.__get_neighbours(D, P)\n",
    "            if len(neighbours_pts) < self.min_pts:\n",
    "                cluster_labels[P] = -1\n",
    "            else:\n",
    "                current_cluster += 1\n",
    "                cluster_labels[P] = current_cluster\n",
    "                self.__expand_clusters(D, P, neighbours_pts, current_cluster, cluster_labels)\n",
    "        \n",
    "        for i in range(0, len(cluster_labels)):\n",
    "            if cluster_labels[i] > 0:\n",
    "                cluster_labels[i] -= 1\n",
    "        return cluster_labels\n",
    "        "
   ]
  },
  {
   "cell_type": "markdown",
   "metadata": {},
   "source": [
    "### Penjelasan Kode\n",
    "\n",
    "Secara teknis, kode dibuat berdasarkan pseudocode yang telah dijelaskan sebelumnya. Perbedaannya disini terdapat 1 fungsi tambahan yaitu `__expand_clusters` untuk menerapkan konsep ke-3 dari DBSCAN, mendapatkan point-point yang reachable dari sebuah core point.\n",
    "\n",
    "Keluaran dari fungsi `fit_predict` langsung berupa array label data sebagai hasil clustering."
   ]
  },
  {
   "cell_type": "code",
   "execution_count": 23,
   "metadata": {},
   "outputs": [
    {
     "data": {
      "image/png": "[encoded data removed]",
      "text/plain": [
       "<matplotlib.figure.Figure at 0x1d1cbb976a0>"
      ]
     },
     "metadata": {},
     "output_type": "display_data"
    },
    {
     "name": "stdout",
     "output_type": "stream",
     "text": [
      "             precision    recall  f1-score   support\n",
      "\n",
      "       -1.0       0.00      0.00      0.00         0\n",
      "        0.0       1.00      0.96      0.98        50\n",
      "        1.0       0.55      0.86      0.67        50\n",
      "        2.0       0.00      0.00      0.00        50\n",
      "\n",
      "avg / total       0.52      0.61      0.55       150\n",
      "\n",
      "accuracy =  0.606666666667\n"
     ]
    },
    {
     "name": "stderr",
     "output_type": "stream",
     "text": [
      "C:\\ProgramData\\Anaconda3\\lib\\site-packages\\sklearn\\metrics\\classification.py:1137: UndefinedMetricWarning: Recall and F-score are ill-defined and being set to 0.0 in labels with no true samples.\n",
      "  'recall', 'true', average, warn_for)\n"
     ]
    }
   ],
   "source": [
    "myDBSCAN = MyDBSCAN(eps=0.425)\n",
    "prediction = myDBSCAN.fit_predict(data)\n",
    "\n",
    "plt.scatter(data[prediction == 0, 0], data[prediction == 0, 1], s=50)\n",
    "plt.scatter(data[prediction == 1, 0], data[prediction == 1, 1], s=50)\n",
    "plt.scatter(data[prediction == 2, 0], data[prediction == 2, 1], s=50)\n",
    "\n",
    "# Tag Outliers\n",
    "plt.scatter(data[prediction == -1, 0], data[prediction == -1, 1], s=10)\n",
    "\n",
    "plt.title('Iris with My OwnDBSCAN Clustering')\n",
    "plt.show()\n",
    "\n",
    "evaluate(prediction)"
   ]
  },
  {
   "cell_type": "markdown",
   "metadata": {},
   "source": [
    "### Penjelasan Hasil Clustering\n",
    "\n",
    "Seperti yang telah diperlihatkan diatas, ada grafik persebaran data beserta warna yang memisahkan per cluster serta titik kecil untuk data-data outliers. Untuk evaluasi dari algoritma DBSCAN ini sendiri, sudah diperlihatkan diatas mulai dari Precision, Recall, F1-Score, hingga Accuracy nya.\n",
    "\n",
    "Secara teknis hasil DBSCAN ini cukup memuaskan karena dapat mencapai akurasi 60,67%. Hasil ini bisa didapat tentunya dengan menentukan konfigurasi yang cukup tepat dari DBSCAN itu sendiri, yaitu `epsilon` dan `minPts`. Seharusnya bisa didapatkan hasil yang lebih baik dengan konfigurasi yang lebih detail. Tetapi hal tersebut cukup sulit untuk diterapkan karena tidak ada metode yang pasti untuk penentuan angka `epsilon` dan `minPts`, masih terlalu spekulatif untuk bisa menentukan konfigurasi maksimal dari DBSCAN untuk data iris."
   ]
  }
 ],
 "metadata": {
  "kernelspec": {
   "display_name": "Python 3",
   "language": "python",
   "name": "python3"
  },
  "language_info": {
   "codemirror_mode": {
    "name": "ipython",
    "version": 3
   },
   "file_extension": ".py",
   "mimetype": "text/x-python",
   "name": "python",
   "nbconvert_exporter": "python",
   "pygments_lexer": "ipython3",
   "version": "3.6.3"
  }
 },
 "nbformat": 4,
 "nbformat_minor": 2
}
